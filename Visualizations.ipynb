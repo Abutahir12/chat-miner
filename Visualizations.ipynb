{
 "cells": [
  {
   "cell_type": "markdown",
   "metadata": {},
   "source": [
    "# Imports & Initializations"
   ]
  },
  {
   "cell_type": "code",
   "execution_count": null,
   "metadata": {},
   "outputs": [],
   "source": [
    "import datetime\n",
    "import pandas as pd\n",
    "import numpy as np\n",
    "import seaborn as sns\n",
    "import matplotlib.pyplot as plt\n",
    "import wa_parser\n",
    "\n",
    "FILEPATH = r''\n",
    "BACKGROUND_COLOR = '#f0efeb'\n",
    "LOOKBACK_WEEKS = 104\n",
    "\n",
    "plt.rcParams[\"font.family\"] = ['Kristen ITC']\n",
    "plt.rcParams[\"figure.facecolor\"] = BACKGROUND_COLOR\n",
    "plt.rcParams[\"axes.facecolor\"] = BACKGROUND_COLOR\n",
    "plt.rcParams[\"axes.spines.top\"] = False\n",
    "plt.rcParams[\"axes.spines.right\"] = False\n",
    "plt.rcParams[\"axes.spines.left\"] = False\n",
    "plt.rcParams[\"axes.spines.bottom\"] = False"
   ]
  },
  {
   "cell_type": "markdown",
   "metadata": {
    "tags": []
   },
   "source": [
    "# Data Loading"
   ]
  },
  {
   "cell_type": "code",
   "execution_count": null,
   "metadata": {},
   "outputs": [],
   "source": [
    "df = wa_parser.get_df_from_chatlog(FILEPATH)\n",
    "df = df[df['datetime'] > df['datetime'].max() - pd.Timedelta(weeks=LOOKBACK_WEEKS)]\n",
    "df[\"hour\"] = df[\"datetime\"].dt.hour"
   ]
  },
  {
   "cell_type": "markdown",
   "metadata": {},
   "source": [
    "# Visualizations"
   ]
  },
  {
   "cell_type": "markdown",
   "metadata": {
    "tags": []
   },
   "source": [
    "## Messages per Day"
   ]
  },
  {
   "cell_type": "code",
   "execution_count": null,
   "metadata": {},
   "outputs": [],
   "source": [
    "df_daily_mess = df.groupby(by=df['datetime'].dt.date)['message'].count().reset_index()\n",
    "df_daily_mess[\"messsagecount_rm28\"] = df_daily_mess[\"message\"].rolling(28, min_periods=13, center=True).mean()\n",
    "df_daily_mess"
   ]
  },
  {
   "cell_type": "code",
   "execution_count": null,
   "metadata": {},
   "outputs": [],
   "source": [
    "fig, ax = plt.subplots(figsize=(8,2.5))\n",
    "sns.lineplot(data=df_daily_mess, x='datetime', y='messsagecount_rm28', ax=ax, label='Label', color='#e76f51', lw=2)\n",
    "ax.set_ylim(0,np.ceil(max(df_daily_mess['messsagecount_rm28'].values)/10)*10)\n",
    "ax.set_xlim([datetime.date(2019, 11, 1), datetime.date(2021, 12, 1)])\n",
    "ax.tick_params(axis='x', rotation=45)\n",
    "ax.set_title(\"Messages per Day (28 Days Rolling Mean)\", fontdict={\"fontsize\": 15})\n",
    "ax.set_xlabel(None)\n",
    "ax.set_ylabel(None)\n",
    "plt.legend(frameon = False, bbox_to_anchor=(1.04,0.5), loc=\"center left\")\n",
    "plt.tight_layout()"
   ]
  },
  {
   "cell_type": "markdown",
   "metadata": {
    "tags": []
   },
   "source": [
    "## Messages per Daytime"
   ]
  },
  {
   "cell_type": "code",
   "execution_count": null,
   "metadata": {},
   "outputs": [],
   "source": [
    "df_circle = df.groupby(by='hour')['message'].count().reset_index()\n",
    "\n",
    "time = df_circle['hour']\n",
    "count = df_circle['message']\n",
    "\n",
    "c = np.zeros(24)\n",
    "c[time] = count\n",
    "count = c\n",
    "\n",
    "f = plt.figure(figsize=(3.5, 3.5))\n",
    "ax = plt.subplot(111, projection=\"polar\")\n",
    "\n",
    "x = np.arange(0, 2 * np.pi, 2 * np.pi / len(count)) + np.pi / len(count)\n",
    "\n",
    "bars = ax.bar(x, count, width=2 * np.pi / len(count),\n",
    "              alpha=0.4, color='#e76f51', bottom=0)\n",
    "\n",
    "max_ind = np.argmax(count)\n",
    "ax.bar(x[max_ind],count[max_ind], bottom=0,\n",
    "       width=2 * np.pi / len(count), alpha=1, color='#e76f51')\n",
    "\n",
    "ax.bar(x, np.max(count) * np.ones(len(count)), width=2 * np.pi / len(count),\n",
    "    alpha=0.15, bottom=0, color='#cb997e', edgecolor=\"black\")\n",
    "\n",
    "ax.set_theta_direction(-1)\n",
    "ax.grid(False)\n",
    "ax.spines[\"polar\"].set_visible(False)\n",
    "ax.set_theta_offset(np.pi / 2)\n",
    "ax.set_xticks(np.linspace(0, 2 * np.pi, 24, endpoint=False))\n",
    "ticks = [\"12 AM\", \"\", \"\", \"3 AM\", \"\", \"\", \"6 AM\", \"\", \"\", \"9 AM\",\n",
    "         \"\", \"\", \"12 PM\", \"\", \"\", \"3 PM\", \"\", \"\", \"6 PM\", \"\", \"\",\n",
    "         \"9 PM\", \"\", \"\"]\n",
    "ax.set_xticklabels(ticks)\n",
    "plt.setp(ax.get_yticklabels(), visible=False)\n",
    "plt.tight_layout()"
   ]
  },
  {
   "cell_type": "markdown",
   "metadata": {
    "tags": []
   },
   "source": [
    "## WordCloud"
   ]
  },
  {
   "cell_type": "code",
   "execution_count": null,
   "metadata": {},
   "outputs": [],
   "source": [
    "import os\n",
    "from os import path\n",
    "from wordcloud import WordCloud, STOPWORDS\n",
    "\n",
    "messages = [word.split() for word in df[\"message\"].values]\n",
    "words = [word.lower() for sublist in messages for word in sublist]\n",
    "\n",
    "stopwords = STOPWORDS.update(['media', 'omitted', 'missed', 'voice', 'call', 'http', 'https'])\n",
    "\n",
    "wordcloud = WordCloud(stopwords=stopwords, max_font_size=60, width=500, height=250,\n",
    "                      background_color='#f0efeb', colormap='viridis', min_word_length=2,\n",
    "                      min_font_size=10).generate(' '.join(words))\n",
    "plt.figure()\n",
    "plt.imshow(wordcloud, interpolation=\"bilinear\")\n",
    "plt.axis(\"off\")\n",
    "plt.tight_layout()"
   ]
  },
  {
   "cell_type": "markdown",
   "metadata": {},
   "source": [
    "# Statistics"
   ]
  },
  {
   "cell_type": "code",
   "execution_count": null,
   "metadata": {},
   "outputs": [],
   "source": [
    "df[\"words\"].sum()"
   ]
  },
  {
   "cell_type": "code",
   "execution_count": null,
   "metadata": {},
   "outputs": [],
   "source": [
    "df.count()"
   ]
  },
  {
   "cell_type": "code",
   "execution_count": null,
   "metadata": {},
   "outputs": [],
   "source": [
    "messages = [word.split() for word in df[\"message\"].values]\n",
    "words = [word.lower() for sublist in messages for word in sublist]\n",
    "len(set(words))"
   ]
  }
 ],
 "metadata": {
  "kernelspec": {
   "display_name": "Python 3",
   "language": "python",
   "name": "python3"
  },
  "language_info": {
   "codemirror_mode": {
    "name": "ipython",
    "version": 3
   },
   "file_extension": ".py",
   "mimetype": "text/x-python",
   "name": "python",
   "nbconvert_exporter": "python",
   "pygments_lexer": "ipython3",
   "version": "3.9.7"
  },
  "toc-autonumbering": true
 },
 "nbformat": 4,
 "nbformat_minor": 5
}
